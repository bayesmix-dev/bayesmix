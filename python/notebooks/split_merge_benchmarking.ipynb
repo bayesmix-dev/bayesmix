{
 "cells": [
  {
   "cell_type": "markdown",
   "id": "fd4b7513-50dd-493c-8ee1-7b10fc8f3b69",
   "metadata": {
    "tags": []
   },
   "source": [
    "# Split and Merge test"
   ]
  },
  {
   "cell_type": "markdown",
   "id": "87dd6abb-69f5-46c3-8c27-cc2fdd6ad9e4",
   "metadata": {
    "tags": []
   },
   "source": [
    "## Prepare the environment"
   ]
  },
  {
   "cell_type": "code",
   "execution_count": null,
   "id": "f997e9f4-06d8-4b15-96fc-e79764a86754",
   "metadata": {},
   "outputs": [],
   "source": [
    "import numpy as np\n",
    "import pandas as pd\n",
    "import scipy.stats as ss\n",
    "import arviz as az\n",
    "import matplotlib.pyplot as plt\n",
    "from mpl_toolkits.mplot3d import Axes3D\n",
    "from sklearn.metrics import adjusted_rand_score\n",
    "\n",
    "%matplotlib inline\n",
    "\n",
    "from bayesmixpy import run_mcmc"
   ]
  },
  {
   "cell_type": "code",
   "execution_count": null,
   "id": "6da0d95f-7749-47f3-99ab-0e715deb80fd",
   "metadata": {},
   "outputs": [],
   "source": [
    "from bayesmixpy import build_bayesmix"
   ]
  },
  {
   "cell_type": "code",
   "execution_count": null,
   "id": "35582535-1c59-40da-9546-ae78a2fdf6ec",
   "metadata": {
    "jupyter": {
     "outputs_hidden": true
    },
    "tags": []
   },
   "outputs": [],
   "source": [
    "build_bayesmix(4)"
   ]
  },
  {
   "cell_type": "code",
   "execution_count": null,
   "id": "f3d75cf1-8837-4e78-b89c-def1cdf095c2",
   "metadata": {},
   "outputs": [],
   "source": [
    "import os\n",
    "os.environ[\"BAYESMIX_EXE\"]=\"../../build/run_mcmc\""
   ]
  },
  {
   "cell_type": "markdown",
   "id": "ede739ea-42d9-46fc-bdea-23728975d68d",
   "metadata": {
    "jp-MarkdownHeadingCollapsed": true,
    "tags": []
   },
   "source": [
    "## Galaxy and faithful datasets\n",
    "We test Split and Merge on two real datasets, galaxy (univariate) and faithful (bivariate).\n",
    "The results are plotted for visual inspection, then they are compared with the ones of Neal2, Neal3, and Neal8 by using Adjusted Rand Index. "
   ]
  },
  {
   "cell_type": "markdown",
   "id": "5f25d3af-8962-4d68-8aba-5e28a8bd2d27",
   "metadata": {},
   "source": [
    "We initialize the priors that are in common for both tests:"
   ]
  },
  {
   "cell_type": "code",
   "execution_count": null,
   "id": "68a77676-2519-4364-9d3c-694dc0152390",
   "metadata": {},
   "outputs": [],
   "source": [
    "mixing_params=dict()\n",
    "mixing_params[\"DP\"] = \"\"\"\n",
    "gamma_prior {\n",
    "  totalmass_prior {\n",
    "    shape: 4.0\n",
    "    rate: 2.0\n",
    "  }\n",
    "}\n",
    "\"\"\"\n",
    "\n",
    "mixing_params[\"PY\"] = \"\"\"\n",
    "fixed_values {\n",
    "    strength: 1.0\n",
    "    discount: 0.1\n",
    "}\n",
    "\"\"\"\n",
    "\n",
    "algo_params = dict()\n",
    "for algo in [\"Neal2\", \"Neal3\", \"Neal8\", \"SplitMerge\"]:\n",
    "    algo_params[algo] = f\"\"\"\n",
    "algo_id: \"{algo}\"\n",
    "rng_seed: 998776\n",
    "iterations: 5000\n",
    "burnin: 1000\n",
    "init_num_clusters: 3\n",
    "neal8_n_aux: 3\n",
    "splitmerge_n_restr_gs_updates: 5\n",
    "splitmerge_n_mh_updates: 1\n",
    "splitmerge_n_full_gs_updates: 1\n",
    "\"\"\""
   ]
  },
  {
   "cell_type": "markdown",
   "id": "adf7f624-b980-47c3-888c-84dc1ee45df0",
   "metadata": {},
   "source": [
    "### Galaxy"
   ]
  },
  {
   "cell_type": "code",
   "execution_count": null,
   "id": "4b38f5e8-0bb5-4f9b-8cc4-ca4c9634f374",
   "metadata": {},
   "outputs": [],
   "source": [
    "data = np.loadtxt(\"../../resources/datasets/galaxy.csv\", delimiter=\",\")\n",
    "grid = np.loadtxt(\"../../resources/datasets/galaxy_grid.csv\", delimiter=\",\")\n",
    "\n",
    "hierarchy_params = \"\"\"\n",
    "ngg_prior {\n",
    "  mean_prior {\n",
    "    mean: 25.0\n",
    "    var: 4.0\n",
    "  }\n",
    "  var_scaling_prior {\n",
    "    shape: 0.4\n",
    "    rate: 0.2\n",
    "  }\n",
    "  shape: 4.0\n",
    "  scale_prior {\n",
    "    shape: 4.0\n",
    "    rate: 2.0\n",
    "  }\n",
    "}\n",
    "\"\"\""
   ]
  },
  {
   "cell_type": "code",
   "execution_count": null,
   "id": "a00f5cfe-ca21-4fcd-93a4-b0f03e37dfab",
   "metadata": {
    "tags": []
   },
   "outputs": [],
   "source": [
    "%%capture\n",
    "eval_dens_split_merge=dict()\n",
    "num_clust_split_merge=dict()\n",
    "best_clust=dict()\n",
    "for mixing in [\"DP\", \"PY\"]:\n",
    "    best_clust[mixing] = dict()\n",
    "    for algo in [\"Neal2\", \"Neal3\", \"Neal8\"]:\n",
    "        _, _, _, best_clust[mixing][algo] = run_mcmc(\n",
    "            \"NNIG\", mixing, data, hierarchy_params, mixing_params[mixing],\n",
    "            algo_params[algo], grid, return_clusters=False, \n",
    "            return_num_clusters=False,\n",
    "            return_best_clus=True)\n",
    "        \n",
    "    eval_dens_split_merge[mixing], num_clust_split_merge[mixing], _, \\\n",
    "    best_clust[mixing][\"SplitMerge\"] = run_mcmc(\n",
    "        \"NNIG\", mixing, data, hierarchy_params, mixing_params[mixing],\n",
    "        algo_params[\"SplitMerge\"], grid, return_clusters=False, \n",
    "        return_num_clusters=True,\n",
    "        return_best_clus=True)"
   ]
  },
  {
   "cell_type": "code",
   "execution_count": null,
   "id": "5a98749a-82b3-4c01-a501-e37e43cb0cc9",
   "metadata": {
    "tags": []
   },
   "outputs": [],
   "source": [
    "# Plot best clustering for Split and Merge \n",
    "for mixing in [\"DP\", \"PY\"]:\n",
    "    plt.figure(figsize=(12,6), dpi=300)\n",
    "    plt.title(f\"galaxy dataset with {mixing}\")\n",
    "    plt.scatter(data, np.repeat(\"Split and Merge\", len(data)), \n",
    "                c=best_clust[mixing][\"SplitMerge\"], cmap=\"Set1\")"
   ]
  },
  {
   "cell_type": "code",
   "execution_count": null,
   "id": "8475392c-c52e-4b38-b539-2d8d54d55efc",
   "metadata": {},
   "outputs": [],
   "source": [
    "# Plot density estimation for Split and Merge\n",
    "for mixing in [\"DP\", \"PY\"]:\n",
    "    fig = plt.figure(figsize=(12,6), dpi=300)\n",
    "    dens = np.exp(np.mean(eval_dens_split_merge[mixing][0::2], axis=0))\n",
    "    plt.hist(data, density=True, color='lightgray')\n",
    "    plt.title(f\"galaxy density with {mixing}\")\n",
    "    plt.plot(grid, dens)"
   ]
  },
  {
   "cell_type": "code",
   "execution_count": null,
   "id": "773085ba-e1ac-4bbc-b4f8-2be45acb282d",
   "metadata": {},
   "outputs": [],
   "source": [
    "# Compute Adjusted Rand Index between the best clustering of Split and Merge\n",
    "# and the best clustering of the other algorithms.\n",
    "print(\"ADJUSTED RAND INDEX\")\n",
    "for mixing_split_merge in [\"DP\", \"PY\"]:\n",
    "    for mixing in [\"DP\", \"PY\"]:\n",
    "        for algo in [\"Neal2\", \"Neal3\", \"Neal8\"]:\n",
    "            best_clust_spit_merge = best_clust[mixing_split_merge]['SplitMerge']\n",
    "            best_clust_competitor = best_clust[mixing][algo]\n",
    "            print(f\"{algo} with {mixing} vs. \"+\n",
    "                f\"Split and Merge with {mixing_split_merge}: \"+ \n",
    "                f\"{adjusted_rand_score(best_clust_competitor,best_clust_spit_merge): 0.5f}\")\n",
    "            \n",
    "best_clust_spit_merge_DP = best_clust[\"DP\"]['SplitMerge']\n",
    "best_clust_spit_merge_PY = best_clust[\"PY\"]['SplitMerge']\n",
    "print(f\"Split and Merge with DP vs. \"+\n",
    "    f\"Split and Merge with PY: \"+ \n",
    "    f\"{adjusted_rand_score(best_clust_spit_merge_DP,best_clust_spit_merge_PY): 0.5f}\")"
   ]
  },
  {
   "cell_type": "code",
   "execution_count": null,
   "id": "4a9cc729-4187-4b80-954d-99614643190f",
   "metadata": {},
   "outputs": [],
   "source": [
    "for mixing in [\"DP\", \"PY\"]:\n",
    "    print(f\"ESS with {mixing}: {az.ess(num_clust_split_merge[mixing])}\")"
   ]
  },
  {
   "cell_type": "markdown",
   "id": "18cb9bc0-7422-4eb8-8137-11beebc5c553",
   "metadata": {},
   "source": [
    "### Faithful"
   ]
  },
  {
   "cell_type": "code",
   "execution_count": null,
   "id": "3d13cd54-4217-4358-aef6-2de00f51f491",
   "metadata": {},
   "outputs": [],
   "source": [
    "data = np.loadtxt(\"../../resources/datasets/faithful.csv\", delimiter=\",\")\n",
    "grid = np.loadtxt(\"../../resources/datasets/faithful_grid.csv\", delimiter=\",\")\n",
    "\n",
    "hierarchy_params = \"\"\"\n",
    "ngiw_prior {\n",
    "  mean_prior {\n",
    "    mean {\n",
    "      size: 2\n",
    "      data: 3.0\n",
    "      data: 3.0\n",
    "    }\n",
    "    var {\n",
    "      rows: 2\n",
    "      cols: 2\n",
    "      data: 0.25\n",
    "      data: 0.0\n",
    "      data: 0.0\n",
    "      data: 0.25\n",
    "    }\n",
    "  }\n",
    "  var_scaling_prior {\n",
    "    shape: 0.4\n",
    "    rate: 0.2\n",
    "  }\n",
    "  deg_free: 4.0\n",
    "  scale_prior {\n",
    "    deg_free: 4.0\n",
    "    scale {\n",
    "      rows: 2\n",
    "      cols: 2\n",
    "      data: 4.0\n",
    "      data: 0.0\n",
    "      data: 0.0\n",
    "      data: 4.0\n",
    "    }\n",
    "  }\n",
    "}\n",
    "\"\"\""
   ]
  },
  {
   "cell_type": "code",
   "execution_count": null,
   "id": "f368374f-b550-4404-983e-abd07a90181c",
   "metadata": {},
   "outputs": [],
   "source": [
    "%%capture\n",
    "eval_dens_split_merge=dict()\n",
    "num_clust_split_merge=dict()\n",
    "best_clust=dict()\n",
    "for mixing in [\"DP\", \"PY\"]:\n",
    "    best_clust[mixing] = dict()\n",
    "    for algo in [\"Neal2\", \"Neal3\", \"Neal8\"]:\n",
    "        _, _, _, best_clust[mixing][algo] = run_mcmc(\n",
    "            \"NNW\", mixing, data, hierarchy_params, mixing_params[mixing],\n",
    "            algo_params[algo], grid, return_clusters=False, \n",
    "            return_num_clusters=False,\n",
    "            return_best_clus=True)\n",
    "        \n",
    "    eval_dens_split_merge[mixing], num_clust_split_merge[mixing], _, \\\n",
    "    best_clust[mixing][\"SplitMerge\"] = run_mcmc(\n",
    "        \"NNW\", mixing, data, hierarchy_params, mixing_params[mixing],\n",
    "        algo_params[\"SplitMerge\"], grid, return_clusters=False, \n",
    "        return_num_clusters=True,\n",
    "        return_best_clus=True)"
   ]
  },
  {
   "cell_type": "code",
   "execution_count": null,
   "id": "f8a50c54-f478-46e7-ac7c-329102589c3e",
   "metadata": {},
   "outputs": [],
   "source": [
    "# Plot best clustering for Split and Merge \n",
    "for mixing in [\"DP\", \"PY\"]:\n",
    "    plt.figure(figsize=(12,6), dpi=300)\n",
    "    plt.title(f\"faithful dataset with {mixing}\")\n",
    "    plt.scatter(data[:,0],data[:,1], c=best_clust[mixing][\"SplitMerge\"],\n",
    "                cmap=\"Set1\")"
   ]
  },
  {
   "cell_type": "code",
   "execution_count": null,
   "id": "a6f3112e-83dd-404f-91b9-9712e8d2b1bd",
   "metadata": {},
   "outputs": [],
   "source": [
    "# Plot density estimation for Split and Merge\n",
    "for mixing in [\"DP\", \"PY\"]:\n",
    "    fig = plt.figure(figsize=(12,6), dpi=300)\n",
    "    dens = np.mean(eval_dens_split_merge[mixing][0::2], axis=0).reshape(-1, 1)\n",
    "    plot_data = pd.DataFrame(np.hstack([grid, dens]), columns=[\"x\", \"y\", \"z\"])\n",
    "    Z = plot_data.pivot_table(index=\"x\", columns=\"y\", values=\"z\").T.values\n",
    "    X_unique = np.sort(plot_data.x.unique())\n",
    "    Y_unique = np.sort(plot_data.y.unique())\n",
    "    X, Y = np.meshgrid(X_unique, Y_unique)\n",
    "    plt.contour(X,Y,Z)\n",
    "    plt.title(f\"faithful log-densities with {mixing}\")\n",
    "    #plt.plot(grid, dens)"
   ]
  },
  {
   "cell_type": "code",
   "execution_count": null,
   "id": "ab760eb4-4c5d-4ed9-b182-0f7d9f32df37",
   "metadata": {},
   "outputs": [],
   "source": [
    "# Compute Adjusted Rand Index between the best clustering of Split and Merge\n",
    "# and the best clustering of the other algorithms.\n",
    "print(\"ADJUSTED RAND INDEX\")\n",
    "for mixing_split_merge in [\"DP\", \"PY\"]:\n",
    "    for mixing in [\"DP\", \"PY\"]:\n",
    "        for algo in [\"Neal2\", \"Neal3\", \"Neal8\"]:\n",
    "            best_clust_spit_merge = best_clust[mixing_split_merge]['SplitMerge']\n",
    "            best_clust_competitor = best_clust[mixing][algo]\n",
    "            print(f\"{algo} with {mixing} vs. \"+\n",
    "                f\"Split and Merge with {mixing_split_merge}: \"+ \n",
    "                f\"{adjusted_rand_score(best_clust_competitor,best_clust_spit_merge): 0.5f}\")\n",
    "\n",
    "# Compute Adjusted Rand Index between Split and Merge with DP and PY mixings.\n",
    "best_clust_spit_merge_DP = best_clust[\"DP\"]['SplitMerge']\n",
    "best_clust_spit_merge_PY = best_clust[\"PY\"]['SplitMerge']\n",
    "print(f\"Split and Merge with DP vs. \"+\n",
    "    f\"Split and Merge with PY: \"+ \n",
    "    f\"{adjusted_rand_score(best_clust_spit_merge_DP,best_clust_spit_merge_PY): 0.5f}\")"
   ]
  },
  {
   "cell_type": "code",
   "execution_count": null,
   "id": "9a6f01fd-9cbe-4879-aacc-c44e7cefafe1",
   "metadata": {},
   "outputs": [],
   "source": [
    "for mixing in [\"DP\", \"PY\"]:\n",
    "    print(f\"ESS with {mixing}: {az.ess(num_clust_split_merge[mixing])}\")"
   ]
  },
  {
   "cell_type": "markdown",
   "id": "496c3366-88bf-4120-8e1b-9ee69b0a3db1",
   "metadata": {},
   "source": [
    "## High dimensional synthetic datasets\n",
    "We test Split and Merge and compare it with Neal3 to check how they work in high dimensionality. Change the value of variable `d` to set the dimensionality."
   ]
  },
  {
   "cell_type": "code",
   "execution_count": null,
   "id": "bfcfe2e6-05cd-4f75-9d07-bc7806dec4eb",
   "metadata": {},
   "outputs": [],
   "source": [
    "def compute_hierarchy_params(d):\n",
    "    hierarchy_params = \"\"\"\n",
    "fixed_values {\n",
    "  mean {\n",
    "    size:\"\"\"+str(d)+\"\\n\"+ (\"data:0.0\\n\")*d +\"\"\"}\n",
    "  var_scaling: 1.0\n",
    "  deg_free: \"\"\"+str(d)+\"\"\"\n",
    "  scale {\n",
    "    rows: \"\"\"+str(d)+\"\"\"\n",
    "    cols: \"\"\"+str(d)+\"\"\"\n",
    "\"\"\"\n",
    "\n",
    "    for i in range(d):\n",
    "        for j in range(d):\n",
    "            hierarchy_params=hierarchy_params+\"data: \"+str(float(i==j))+\\\n",
    "            \"\\n\"\n",
    "    hierarchy_params=hierarchy_params+\"}}\"\n",
    "    \n",
    "    return hierarchy_params"
   ]
  },
  {
   "cell_type": "code",
   "execution_count": null,
   "id": "83882de2-b8b3-4b6a-b9f2-8f641aacff90",
   "metadata": {},
   "outputs": [],
   "source": [
    "n_data = 50\n",
    "seed=45245"
   ]
  },
  {
   "cell_type": "code",
   "execution_count": null,
   "id": "8fe8741a-a139-4089-9a5f-e865f0e03beb",
   "metadata": {},
   "outputs": [],
   "source": [
    "mixing_params=dict()\n",
    "mixing_params[\"DP\"] = \"\"\"\n",
    "gamma_prior {\n",
    "  totalmass_prior {\n",
    "    shape: 4.0\n",
    "    rate: 2.0\n",
    "  }\n",
    "}\n",
    "\"\"\"\n",
    "\n",
    "mixing_params[\"PY\"] = \"\"\"\n",
    "fixed_values {\n",
    "    strength: 1.0\n",
    "    discount: 0.1\n",
    "}\n",
    "\"\"\"\n",
    "\n",
    "algo_params = dict()\n",
    "for algo in [\"Neal3\", \"SplitMerge\"]:\n",
    "    algo_params[algo] = f\"\"\"\n",
    "algo_id: \"{algo}\"\n",
    "rng_seed: 998776\n",
    "iterations: 15000\n",
    "burnin: 100\n",
    "init_num_clusters: 1\n",
    "neal8_n_aux: 3\n",
    "splitmerge_n_restr_gs_updates: 10\n",
    "splitmerge_n_mh_updates: 1\n",
    "splitmerge_n_full_gs_updates: 2\n",
    "\"\"\""
   ]
  },
  {
   "cell_type": "code",
   "execution_count": null,
   "id": "0ac224ff-3fb2-4907-aa7b-68c590584759",
   "metadata": {
    "tags": []
   },
   "outputs": [],
   "source": [
    "%%capture\n",
    "d=6\n",
    "\n",
    "hierarchy_params = compute_hierarchy_params(d)\n",
    "\n",
    "data = np.zeros((n_data, d))\n",
    "n_data_first_clust = round(n_data/2)\n",
    "n_data_second_clust = n_data-n_data_first_clust\n",
    "\n",
    "correct_clustering = np.zeros(data.shape[0])\n",
    "correct_clustering[0:n_data_first_clust] = 1\n",
    "\n",
    "data = ss.multivariate_normal(\n",
    "  np.repeat(10/np.sqrt(d), d), np.identity(d), False, seed).rvs(n_data)\n",
    "\n",
    "data[0:n_data_first_clust]=-data[0:n_data_first_clust]\n",
    "\n",
    "# In this case the grid is not important because we are not interested \n",
    "# in the density. Therefore, we put it equal to data.\n",
    "grid = data\n",
    "\n",
    "num_clust = dict()\n",
    "best_clust = dict()\n",
    "for mixing in [\"DP\",\"PY\"]:\n",
    "    num_clust[mixing] = dict()\n",
    "    best_clust[mixing] = dict()\n",
    "    for algo in [\"Neal3\", \"SplitMerge\"]:\n",
    "        _, num_clust[mixing][algo], _, best_clust[mixing][algo] = run_mcmc(\n",
    "            \"NNW\", mixing, data, hierarchy_params, mixing_params[mixing],\n",
    "            algo_params[algo], grid, return_clusters=False, \n",
    "            return_num_clusters=True,\n",
    "            return_best_clus=True)        "
   ]
  },
  {
   "cell_type": "code",
   "execution_count": null,
   "id": "69efe942-15b2-4b82-9471-f010b27af13f",
   "metadata": {},
   "outputs": [],
   "source": [
    "print(f\"{d} dimensions\")\n",
    "print(\"Adjusted Rand Index w.r.t. the correct clustering: \")\n",
    "for mixing in [\"DP\",\"PY\"]:\n",
    "    for algo in [\"Neal3\", \"SplitMerge\"]: \n",
    "        ari =adjusted_rand_score(best_clust[mixing][algo], correct_clustering)\n",
    "        print(f\"{algo} with {mixing}: {ari: .5f}\")"
   ]
  },
  {
   "cell_type": "code",
   "execution_count": null,
   "id": "67f0d348-e3cb-457b-b9e1-bf47169639c1",
   "metadata": {},
   "outputs": [],
   "source": [
    "for mixing in [\"DP\",\"PY\"]:\n",
    "    for algo in [\"Neal3\", \"SplitMerge\"]:  \n",
    "        plt.figure(figsize=(20,5), dpi=300)\n",
    "        plt.title(f\"Trace plot of the number of clusters of {algo} with {mixing}, {d} dimensions\")\n",
    "        plt.plot(num_clust[mixing][algo])"
   ]
  },
  {
   "cell_type": "markdown",
   "id": "2428393e-6cb6-45c5-9028-5e7342c36707",
   "metadata": {},
   "source": [
    "Changing the parameter $d$ we can see that, in general, Split and Merge recognizes correctly the two clusters when $d\\le 10$ and fails with $d\\ge 11$, while Neal3 fails with $d\\ge 6$.\n",
    "\n",
    "One particular case is with with 7 dimensions: Split and Merge moves in a few iterations to 2 clusters and oscillates between 2 and 3, while Neal3 requires 3000 iterations (with DP) or 7000 iterations (with PY) to move to two clusters. Therefore, also in the cases when Neal3 recognizes the two clusters, Split and Merge requires far less iterations!"
   ]
  }
 ],
 "metadata": {
  "kernelspec": {
   "display_name": "Python 3 (ipykernel)",
   "language": "python",
   "name": "python3"
  },
  "language_info": {
   "codemirror_mode": {
    "name": "ipython",
    "version": 3
   },
   "file_extension": ".py",
   "mimetype": "text/x-python",
   "name": "python",
   "nbconvert_exporter": "python",
   "pygments_lexer": "ipython3",
   "version": "3.8.5"
  }
 },
 "nbformat": 4,
 "nbformat_minor": 5
}
