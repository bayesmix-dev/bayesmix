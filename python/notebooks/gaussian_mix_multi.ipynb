{
 "cells": [
  {
   "cell_type": "code",
   "execution_count": null,
   "id": "9f621975",
   "metadata": {},
   "outputs": [],
   "source": [
    "import matplotlib.pyplot as plt\n",
    "import numpy as np\n",
    "\n",
    "from bayesmixpy import run_mcmc"
   ]
  },
  {
   "cell_type": "code",
   "execution_count": null,
   "id": "ffdd3715",
   "metadata": {},
   "outputs": [],
   "source": [
    "import os\n",
    "os.environ[\"BAYESMIX_EXE\"] = \"../../build/run_mcmc\""
   ]
  },
  {
   "cell_type": "markdown",
   "id": "3ef99bb3",
   "metadata": {},
   "source": [
    "# Load the old faithful dataset"
   ]
  },
  {
   "cell_type": "code",
   "execution_count": null,
   "id": "7dd769e3",
   "metadata": {},
   "outputs": [],
   "source": [
    "data = np.loadtxt(\"../../resources/datasets/faithful.csv\", delimiter=',')"
   ]
  },
  {
   "cell_type": "markdown",
   "id": "2d727b5f",
   "metadata": {},
   "source": [
    "## Modelling choices\n",
    "\n",
    "We consider a mixture of bivariate normals, with unknown mean and covariance matrix. As a prior for the mixing measure we consider either a Dirichlet or a Pitman-Yor process with fixed parameters.\n",
    "\n",
    "The centering measure is a normal-inverse-Wishart distribution, whose parameters are chosen via an empirical Bayesian procedure."
   ]
  },
  {
   "cell_type": "code",
   "execution_count": null,
   "id": "409063cd",
   "metadata": {},
   "outputs": [],
   "source": [
    "mu0 = np.mean(data, axis=0)\n",
    "mu0"
   ]
  },
  {
   "cell_type": "code",
   "execution_count": null,
   "id": "45b606ed",
   "metadata": {},
   "outputs": [],
   "source": [
    "dp_params = \"\"\"\n",
    "fixed_value {\n",
    "    totalmass: 1.0\n",
    "}\n",
    "\"\"\"\n",
    "\n",
    "py_params = \"\"\"\n",
    "fixed_values {\n",
    "    strength: 1.0\n",
    "    discount: 0.2\n",
    "}\n",
    "\"\"\"\n",
    "\n",
    "\n",
    "g0_params = \"\"\"\n",
    "fixed_values {\n",
    "    mean {\n",
    "        size: 2\n",
    "        data: 3.484\n",
    "        data: 3.487\n",
    "    }\n",
    "    var_scaling: 0.01\n",
    "    deg_free: 5\n",
    "    scale {\n",
    "        rows: 2\n",
    "        cols: 2\n",
    "        data: 1.0\n",
    "        data: 0.0\n",
    "        data: 0.0\n",
    "        data: 1.0\n",
    "        rowmajor: false\n",
    "    }\n",
    "}\n",
    "\"\"\"\n",
    "\n",
    "neal2_algo = \"\"\"\n",
    "algo_id: \"Neal2\"\n",
    "rng_seed: 20201124\n",
    "iterations: 2000\n",
    "burnin: 1000\n",
    "init_num_clusters: 3\n",
    "\"\"\""
   ]
  },
  {
   "cell_type": "code",
   "execution_count": null,
   "id": "183eb2c4",
   "metadata": {},
   "outputs": [],
   "source": [
    "xgrid = np.linspace(0, 6, 50)\n",
    "xgrid, ygrid = np.meshgrid(xgrid, xgrid)\n",
    "dens_grid = np.hstack([xgrid.reshape(-1, 1), ygrid.reshape(-1, 1)])"
   ]
  },
  {
   "cell_type": "code",
   "execution_count": null,
   "id": "e7b95041",
   "metadata": {},
   "outputs": [],
   "source": [
    "eval_dens_dp, _, _, best_clus_dp = run_mcmc(\n",
    "    \"NNW\", \"DP\", data, g0_params, dp_params, neal2_algo, \n",
    "    dens_grid, return_clusters=False, return_num_clusters=False,\n",
    "    return_best_clus=True)\n",
    "\n",
    "eval_dens_py, _, _, best_clus_py = run_mcmc(\n",
    "    \"NNW\", \"PY\", data, g0_params, py_params, neal2_algo, \n",
    "    dens_grid, return_clusters=False, return_num_clusters=False,\n",
    "    return_best_clus=True)"
   ]
  },
  {
   "cell_type": "code",
   "execution_count": null,
   "id": "1076ebcf",
   "metadata": {},
   "outputs": [],
   "source": [
    "fig, axes = plt.subplots(nrows=1, ncols=2, figsize=(11, 5))\n",
    "\n",
    "mean_dens_dp = np.mean(eval_dens_dp, axis=0)\n",
    "mean_dens_py = np.mean(eval_dens_py, axis=0)\n",
    "\n",
    "axes[0].set_title(\"Dirichlet Process\", fontsize=16)\n",
    "axes[0].contour(xgrid, ygrid, mean_dens_dp.reshape(xgrid.shape))\n",
    "for c in np.unique(best_clus_dp):\n",
    "    currdata = data[best_clus_dp == c, :]\n",
    "    axes[0].scatter(currdata[:, 0], currdata[:, 1])\n",
    "\n",
    "axes[1].set_title(\"Pitman-Yor Process\", fontsize=16)\n",
    "axes[1].contour(xgrid, ygrid, mean_dens_py.reshape(xgrid.shape))\n",
    "for c in np.unique(best_clus_py):\n",
    "    currdata = data[best_clus_dp == c, :]\n",
    "    axes[1].scatter(currdata[:, 0], currdata[:, 1])"
   ]
  },
  {
   "cell_type": "code",
   "execution_count": null,
   "id": "1a162b89",
   "metadata": {},
   "outputs": [],
   "source": []
  }
 ],
 "metadata": {
  "kernelspec": {
   "display_name": "Python 3",
   "language": "python",
   "name": "python3"
  },
  "language_info": {
   "codemirror_mode": {
    "name": "ipython",
    "version": 3
   },
   "file_extension": ".py",
   "mimetype": "text/x-python",
   "name": "python",
   "nbconvert_exporter": "python",
   "pygments_lexer": "ipython3",
   "version": "3.9.8"
  }
 },
 "nbformat": 4,
 "nbformat_minor": 5
}
