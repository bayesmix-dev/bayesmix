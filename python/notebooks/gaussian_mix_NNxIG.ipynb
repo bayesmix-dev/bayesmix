{
 "cells": [
  {
   "cell_type": "code",
   "execution_count": null,
   "id": "6c73fa6a",
   "metadata": {},
   "outputs": [],
   "source": [
    "import matplotlib.pyplot as plt\n",
    "import numpy as np\n",
    "\n",
    "from bayesmixpy import run_mcmc"
   ]
  },
  {
   "cell_type": "code",
   "execution_count": null,
   "id": "64a83071",
   "metadata": {},
   "outputs": [],
   "source": [
    "# Generate data\n",
    "data = np.concatenate([\n",
    "    np.random.normal(loc=3, scale=1, size=100),\n",
    "    np.random.normal(loc=-3, scale=1, size=100),\n",
    "])\n",
    "\n",
    "# Plot data\n",
    "plt.hist(data)\n",
    "plt.show()"
   ]
  },
  {
   "cell_type": "code",
   "execution_count": null,
   "id": "13df394d",
   "metadata": {},
   "outputs": [],
   "source": [
    "# Hierarchy settings\n",
    "hier_params = \\\n",
    "\"\"\"\n",
    "fixed_values {\n",
    "  mean: 0.0\n",
    "  var: 10.0\n",
    "  shape: 2.0\n",
    "  scale: 2.0\n",
    "}\n",
    "\"\"\"\n",
    "\n",
    "# Mixing settings\n",
    "mix_params = \\\n",
    "\"\"\"\n",
    "fixed_value {\n",
    "    totalmass: 1.0\n",
    "}\n",
    "\"\"\"\n",
    "\n",
    "# Algorithm settings\n",
    "algo_params = \\\n",
    "\"\"\"\n",
    "algo_id: \"Neal8\"\n",
    "rng_seed: 20201124\n",
    "iterations: 2000\n",
    "burnin: 1000\n",
    "init_num_clusters: 3\n",
    "neal8_n_aux: 3\n",
    "\"\"\"\n",
    "\n",
    "# Evaluation grid\n",
    "dens_grid = np.linspace(-6.5, 6.5, 1000)"
   ]
  },
  {
   "cell_type": "code",
   "execution_count": null,
   "id": "12505b6e",
   "metadata": {},
   "outputs": [],
   "source": [
    "# Fit model using bayesmixpy\n",
    "eval_dens, n_clus, clus_chain, best_clus, _ = run_mcmc(\"NNxIG\",\"DP\", data,\n",
    "                                                    hier_params, mix_params, algo_params,\n",
    "                                                    dens_grid, return_num_clusters=True,\n",
    "                                                    return_clusters=True, return_best_clus=True)"
   ]
  },
  {
   "cell_type": "code",
   "execution_count": null,
   "id": "8470fc0a",
   "metadata": {},
   "outputs": [],
   "source": [
    "fig, axes = plt.subplots(1, 2, figsize=(12, 6))\n",
    "\n",
    "# Posterior distribution of clusters\n",
    "x, y = np.unique(n_clus, return_counts=True)\n",
    "axes[0].bar(x, y / y.sum())\n",
    "axes[0].set_xticks(x)\n",
    "axes[0].set_title(\"Posterior distribution of the number of clusters\")\n",
    "\n",
    "# Plot mean posterior density\n",
    "axes[1].plot(dens_grid, np.exp(np.mean(eval_dens, axis=0)))\n",
    "axes[1].hist(data, alpha=0.3, density=True)\n",
    "for c in np.unique(best_clus):\n",
    "    data_in_clus = data[best_clus == c]\n",
    "    axes[1].scatter(data_in_clus, np.zeros_like(data_in_clus) + 0.01)\n",
    "axes[1].set_title(\"Posterior density estimate\")\n",
    "\n",
    "# Show results\n",
    "plt.show()"
   ]
  }
 ],
 "metadata": {
  "kernelspec": {
   "display_name": "Python 3 (ipykernel)",
   "language": "python",
   "name": "python3"
  },
  "language_info": {
   "codemirror_mode": {
    "name": "ipython",
    "version": 3
   },
   "file_extension": ".py",
   "mimetype": "text/x-python",
   "name": "python",
   "nbconvert_exporter": "python",
   "pygments_lexer": "ipython3",
   "version": "3.9.12"
  }
 },
 "nbformat": 4,
 "nbformat_minor": 5
}
